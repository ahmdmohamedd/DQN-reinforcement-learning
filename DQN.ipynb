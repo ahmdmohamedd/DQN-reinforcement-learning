{
 "cells": [
  {
   "cell_type": "code",
   "execution_count": 1,
   "id": "f0185ae1-c862-4b4c-91b0-7c1821ba6f4d",
   "metadata": {},
   "outputs": [
    {
     "data": {
      "text/plain": [
       "(array([ 0.01369617, -0.02302133, -0.04590265, -0.04834723], dtype=float32),\n",
       " {})"
      ]
     },
     "execution_count": 1,
     "metadata": {},
     "output_type": "execute_result"
    }
   ],
   "source": [
    "import gym\n",
    "import numpy as np\n",
    "import tensorflow as tf\n",
    "from tensorflow.keras import models, layers, optimizers\n",
    "import random\n",
    "from collections import deque\n",
    "\n",
    "# Create the CartPole environment\n",
    "env = gym.make('CartPole-v1')\n",
    "\n",
    "# Set random seeds for reproducibility\n",
    "np.random.seed(0)\n",
    "tf.random.set_seed(0)\n",
    "env.reset(seed=0)\n"
   ]
  },
  {
   "cell_type": "code",
   "execution_count": 2,
   "id": "19bd1024-fba8-4bfe-ab45-53dad7833a26",
   "metadata": {},
   "outputs": [],
   "source": [
    "def build_dqn_model(input_shape, output_shape):\n",
    "    model = models.Sequential([\n",
    "        layers.Dense(24, input_dim=input_shape, activation='relu'),\n",
    "        layers.Dense(24, activation='relu'),\n",
    "        layers.Dense(output_shape, activation='linear')\n",
    "    ])\n",
    "    model.compile(loss='mse', optimizer=optimizers.Adam(learning_rate=0.001))  # Updated here\n",
    "    return model"
   ]
  },
  {
   "cell_type": "code",
   "execution_count": 3,
   "id": "48d087da-e47d-4e40-b0a5-a7baa33573ad",
   "metadata": {},
   "outputs": [],
   "source": [
    "class DQNAgent:\n",
    "    def __init__(self, state_size, action_size):\n",
    "        self.state_size = state_size\n",
    "        self.action_size = action_size\n",
    "        self.memory = deque(maxlen=2000)\n",
    "        self.gamma = 0.95  # discount rate\n",
    "        self.epsilon = 1.0  # exploration rate\n",
    "        self.epsilon_min = 0.01\n",
    "        self.epsilon_decay = 0.995\n",
    "        self.model = build_dqn_model(state_size, action_size)\n",
    "\n",
    "    def remember(self, state, action, reward, next_state, done):\n",
    "        self.memory.append((state, action, reward, next_state, done))\n",
    "\n",
    "    def act(self, state):\n",
    "        if np.random.rand() <= self.epsilon:\n",
    "            return random.randrange(self.action_size)\n",
    "        act_values = self.model.predict(state)\n",
    "        return np.argmax(act_values[0])\n",
    "\n",
    "    def replay(self, batch_size):\n",
    "        minibatch = random.sample(self.memory, batch_size)\n",
    "        for state, action, reward, next_state, done in minibatch:\n",
    "            target = reward\n",
    "            if not done:\n",
    "                target = (reward + self.gamma * np.amax(self.model.predict(next_state)[0]))\n",
    "            target_f = self.model.predict(state)\n",
    "            target_f[0][action] = target\n",
    "            self.model.fit(state, target_f, epochs=1, verbose=0)\n",
    "        if self.epsilon > self.epsilon_min:\n",
    "            self.epsilon *= self.epsilon_decay\n"
   ]
  },
  {
   "cell_type": "code",
   "execution_count": 4,
   "id": "5aa592c9-8d9c-403f-af66-118b28736f82",
   "metadata": {},
   "outputs": [],
   "source": [
    "def train_dqn(episodes=1000):\n",
    "    state_size = env.observation_space.shape[0]\n",
    "    action_size = env.action_space.n\n",
    "    agent = DQNAgent(state_size, action_size)\n",
    "    batch_size = 32\n",
    "\n",
    "    for e in range(episodes):\n",
    "        state, _ = env.reset()  # Extract state from the reset output\n",
    "        state = np.reshape(state, [1, state_size])\n",
    "        for time in range(500):\n",
    "            # Uncomment to render the environment\n",
    "            # env.render()\n",
    "            \n",
    "            action = agent.act(state)\n",
    "            next_state, reward, done, truncated, _ = env.step(action)  # Unpack all five values\n",
    "            \n",
    "            # Use the done flag as is\n",
    "            done = done or truncated  # Treat 'truncated' as 'done' if True\n",
    "            \n",
    "            reward = reward if not done else -10\n",
    "            next_state = np.reshape(next_state, [1, state_size])\n",
    "            agent.remember(state, action, reward, next_state, done)\n",
    "            state = next_state\n",
    "\n",
    "            if done:\n",
    "                print(f\"Episode {e+1}/{episodes}, Score: {time}, Epsilon: {agent.epsilon:.2}\")\n",
    "                break\n",
    "\n",
    "            if len(agent.memory) > batch_size:\n",
    "                agent.replay(batch_size)\n"
   ]
  },
  {
   "cell_type": "code",
   "execution_count": null,
   "id": "d7b283e8-dc2e-46f7-b954-d0f349b17199",
   "metadata": {},
   "outputs": [],
   "source": [
    "# Call the training function\n",
    "train_dqn(episodes=500)"
   ]
  }
 ],
 "metadata": {
  "kernelspec": {
   "display_name": "Python 3 (ipykernel)",
   "language": "python",
   "name": "python3"
  },
  "language_info": {
   "codemirror_mode": {
    "name": "ipython",
    "version": 3
   },
   "file_extension": ".py",
   "mimetype": "text/x-python",
   "name": "python",
   "nbconvert_exporter": "python",
   "pygments_lexer": "ipython3",
   "version": "3.9.18"
  }
 },
 "nbformat": 4,
 "nbformat_minor": 5
}
